{
 "cells": [
  {
   "cell_type": "raw",
   "metadata": {},
   "source": [
    "title: \"Workbench\"\n",
    "output:\n",
    "    general:\n",
    "        input: false\n",
    "    html:\n",
    "        toc: false"
   ]
  },
  {
   "cell_type": "code",
   "execution_count": null,
   "metadata": {},
   "outputs": [],
   "source": [
    "import os\n",
    "\n",
    "if not 'ran_once' in locals():\n",
    "    %load_ext autoreload\n",
    "    %autoreload 2\n",
    "    ran_once = True\n",
    "    import pandas as pd\n",
    "    pd.set_option('display.max_columns', None)\n",
    "    os.environ[\"PYTHONDONTWRITEBYTECODE\"] = \"1\"\n",
    "    SEED = 12\n",
    "    pd.set_option(\"display.max_rows\", 200)\n",
    "    pd.set_option(\"display.max_colwidth\", 200)\n",
    "    pd.set_option(\"display.max_columns\", 100)\n",
    "\n",
    "import plotly.express as px\n",
    "from pathlib import Path\n",
    "import plotly.io as pio\n",
    "pio.renderers.default = \"plotly_mimetype+notebook\""
   ]
  }
 ],
 "metadata": {
  "language_info": {
   "name": "python"
  },
  "orig_nbformat": 4
 },
 "nbformat": 4,
 "nbformat_minor": 2
}
